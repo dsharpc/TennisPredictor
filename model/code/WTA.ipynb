{
 "cells": [
  {
   "cell_type": "markdown",
   "id": "cdc2de85-589e-4c9b-9841-6eb3b3146d8f",
   "metadata": {},
   "source": [
    "# WTA"
   ]
  },
  {
   "cell_type": "code",
   "execution_count": 1,
   "id": "d268fd21-6194-4526-8389-d1bf3489bd46",
   "metadata": {},
   "outputs": [],
   "source": [
    "import glob\n",
    "import pandas as pd\n",
    "import seaborn as sns\n",
    "import matplotlib.pyplot as plt"
   ]
  },
  {
   "cell_type": "code",
   "execution_count": 2,
   "id": "63ebaf23-8175-4251-85e1-a90f3109acc5",
   "metadata": {},
   "outputs": [],
   "source": [
    "data_files = glob.glob(\"../data/*\")"
   ]
  },
  {
   "cell_type": "code",
   "execution_count": 3,
   "id": "e5f20735-9a63-4d2b-a515-270d13258f33",
   "metadata": {},
   "outputs": [
    {
     "name": "stderr",
     "output_type": "stream",
     "text": [
      "/usr/local/lib/python3.10/site-packages/openpyxl/worksheet/_reader.py:312: UserWarning: Unknown extension is not supported and will be removed\n",
      "  warn(msg)\n"
     ]
    }
   ],
   "source": [
    "dfs = []\n",
    "for file in data_files:\n",
    "    dfs.append(pd.read_excel(file))"
   ]
  },
  {
   "cell_type": "code",
   "execution_count": 4,
   "id": "c77bb946-da62-424b-9b03-aae9942a415a",
   "metadata": {},
   "outputs": [],
   "source": [
    "df = pd.concat(dfs)\n",
    "df = df.reset_index(drop=True)"
   ]
  },
  {
   "cell_type": "code",
   "execution_count": 5,
   "id": "c9ec2e56-edb6-4a0c-81af-d5f3388e94d8",
   "metadata": {},
   "outputs": [
    {
     "data": {
      "text/plain": [
       "ATP           0.000000\n",
       "Location      0.000000\n",
       "Tournament    0.000000\n",
       "Date          0.000000\n",
       "Series        0.000000\n",
       "Court         0.000000\n",
       "Surface       0.000000\n",
       "Round         0.000000\n",
       "Best of       0.000000\n",
       "Winner        0.000000\n",
       "Loser         0.000000\n",
       "WRank         0.000341\n",
       "LRank         0.001754\n",
       "W1            0.005314\n",
       "L1            0.005262\n",
       "W2            0.014663\n",
       "L2            0.014646\n",
       "W3            0.534504\n",
       "L3            0.534521\n",
       "W4            0.907235\n",
       "L4            0.907235\n",
       "W5            0.964883\n",
       "L5            0.964883\n",
       "Wsets         0.004632\n",
       "Lsets         0.004666\n",
       "Comment       0.000000\n",
       "CBW           0.701863\n",
       "CBL           0.701863\n",
       "GBW           0.913911\n",
       "GBL           0.913911\n",
       "IWW           0.772506\n",
       "IWL           0.772506\n",
       "SBW           0.907626\n",
       "SBL           0.907626\n",
       "B365W         0.148064\n",
       "B365L         0.147672\n",
       "B&WW          0.981317\n",
       "B&WL          0.981317\n",
       "EXW           0.328809\n",
       "EXL           0.328724\n",
       "PSW           0.255203\n",
       "PSL           0.255203\n",
       "WPts          0.276031\n",
       "LPts          0.277394\n",
       "UBW           0.818267\n",
       "UBL           0.818267\n",
       "LBW           0.520914\n",
       "LBL           0.520726\n",
       "SJW           0.734800\n",
       "SJL           0.734681\n",
       "MaxW          0.503338\n",
       "MaxL          0.503338\n",
       "AvgW          0.503338\n",
       "AvgL          0.503338\n",
       "dtype: float64"
      ]
     },
     "execution_count": 5,
     "metadata": {},
     "output_type": "execute_result"
    }
   ],
   "source": [
    "df.isna().mean()"
   ]
  },
  {
   "cell_type": "code",
   "execution_count": 6,
   "id": "d49cc52b-5f7c-4748-9167-c62cb2d44976",
   "metadata": {},
   "outputs": [],
   "source": [
    "df = df[((df['LRank'] != 'NR') & ~df['LRank'].isna()) & ((df['WRank'] != 'NR') & ~df['WRank'].isna())]"
   ]
  },
  {
   "cell_type": "code",
   "execution_count": 7,
   "id": "bdf99a27-7cb0-4038-846e-baaa1c91c312",
   "metadata": {},
   "outputs": [],
   "source": [
    "df[\"LRank\"] = df[\"LRank\"].astype(int)\n",
    "df[\"WRank\"] = df[\"WRank\"].astype(int)"
   ]
  },
  {
   "cell_type": "markdown",
   "id": "8d808aa4-b3fe-4e90-a9cf-03aa57986bc2",
   "metadata": {},
   "source": [
    "# Player Agnostic"
   ]
  },
  {
   "cell_type": "code",
   "execution_count": 8,
   "id": "b3df71ca-adab-408c-a912-95e1884b53f9",
   "metadata": {},
   "outputs": [
    {
     "data": {
      "text/html": [
       "<div>\n",
       "<style scoped>\n",
       "    .dataframe tbody tr th:only-of-type {\n",
       "        vertical-align: middle;\n",
       "    }\n",
       "\n",
       "    .dataframe tbody tr th {\n",
       "        vertical-align: top;\n",
       "    }\n",
       "\n",
       "    .dataframe thead th {\n",
       "        text-align: right;\n",
       "    }\n",
       "</style>\n",
       "<table border=\"1\" class=\"dataframe\">\n",
       "  <thead>\n",
       "    <tr style=\"text-align: right;\">\n",
       "      <th></th>\n",
       "      <th>Round</th>\n",
       "      <th>Court</th>\n",
       "      <th>Surface</th>\n",
       "      <th>Location</th>\n",
       "      <th>Best of</th>\n",
       "      <th>WRank</th>\n",
       "      <th>LRank</th>\n",
       "    </tr>\n",
       "  </thead>\n",
       "  <tbody>\n",
       "    <tr>\n",
       "      <th>0</th>\n",
       "      <td>1st Round</td>\n",
       "      <td>Outdoor</td>\n",
       "      <td>Hard</td>\n",
       "      <td>Adelaide</td>\n",
       "      <td>3</td>\n",
       "      <td>63</td>\n",
       "      <td>77</td>\n",
       "    </tr>\n",
       "    <tr>\n",
       "      <th>1</th>\n",
       "      <td>1st Round</td>\n",
       "      <td>Outdoor</td>\n",
       "      <td>Hard</td>\n",
       "      <td>Adelaide</td>\n",
       "      <td>3</td>\n",
       "      <td>5</td>\n",
       "      <td>56</td>\n",
       "    </tr>\n",
       "    <tr>\n",
       "      <th>2</th>\n",
       "      <td>1st Round</td>\n",
       "      <td>Outdoor</td>\n",
       "      <td>Hard</td>\n",
       "      <td>Adelaide</td>\n",
       "      <td>3</td>\n",
       "      <td>40</td>\n",
       "      <td>655</td>\n",
       "    </tr>\n",
       "    <tr>\n",
       "      <th>3</th>\n",
       "      <td>1st Round</td>\n",
       "      <td>Outdoor</td>\n",
       "      <td>Hard</td>\n",
       "      <td>Adelaide</td>\n",
       "      <td>3</td>\n",
       "      <td>65</td>\n",
       "      <td>87</td>\n",
       "    </tr>\n",
       "    <tr>\n",
       "      <th>4</th>\n",
       "      <td>1st Round</td>\n",
       "      <td>Outdoor</td>\n",
       "      <td>Hard</td>\n",
       "      <td>Adelaide</td>\n",
       "      <td>3</td>\n",
       "      <td>81</td>\n",
       "      <td>198</td>\n",
       "    </tr>\n",
       "    <tr>\n",
       "      <th>...</th>\n",
       "      <td>...</td>\n",
       "      <td>...</td>\n",
       "      <td>...</td>\n",
       "      <td>...</td>\n",
       "      <td>...</td>\n",
       "      <td>...</td>\n",
       "      <td>...</td>\n",
       "    </tr>\n",
       "    <tr>\n",
       "      <th>58713</th>\n",
       "      <td>Quarterfinals</td>\n",
       "      <td>Outdoor</td>\n",
       "      <td>Hard</td>\n",
       "      <td>Melbourne</td>\n",
       "      <td>3</td>\n",
       "      <td>112</td>\n",
       "      <td>77</td>\n",
       "    </tr>\n",
       "    <tr>\n",
       "      <th>58714</th>\n",
       "      <td>Quarterfinals</td>\n",
       "      <td>Outdoor</td>\n",
       "      <td>Hard</td>\n",
       "      <td>Melbourne</td>\n",
       "      <td>3</td>\n",
       "      <td>28</td>\n",
       "      <td>57</td>\n",
       "    </tr>\n",
       "    <tr>\n",
       "      <th>58715</th>\n",
       "      <td>Semifinals</td>\n",
       "      <td>Outdoor</td>\n",
       "      <td>Hard</td>\n",
       "      <td>Melbourne</td>\n",
       "      <td>3</td>\n",
       "      <td>112</td>\n",
       "      <td>28</td>\n",
       "    </tr>\n",
       "    <tr>\n",
       "      <th>58716</th>\n",
       "      <td>Semifinals</td>\n",
       "      <td>Outdoor</td>\n",
       "      <td>Hard</td>\n",
       "      <td>Melbourne</td>\n",
       "      <td>3</td>\n",
       "      <td>6</td>\n",
       "      <td>95</td>\n",
       "    </tr>\n",
       "    <tr>\n",
       "      <th>58717</th>\n",
       "      <td>The Final</td>\n",
       "      <td>Outdoor</td>\n",
       "      <td>Hard</td>\n",
       "      <td>Melbourne</td>\n",
       "      <td>3</td>\n",
       "      <td>6</td>\n",
       "      <td>112</td>\n",
       "    </tr>\n",
       "  </tbody>\n",
       "</table>\n",
       "<p>58567 rows × 7 columns</p>\n",
       "</div>"
      ],
      "text/plain": [
       "               Round    Court Surface   Location  Best of  WRank  LRank\n",
       "0          1st Round  Outdoor    Hard   Adelaide        3     63     77\n",
       "1          1st Round  Outdoor    Hard   Adelaide        3      5     56\n",
       "2          1st Round  Outdoor    Hard   Adelaide        3     40    655\n",
       "3          1st Round  Outdoor    Hard   Adelaide        3     65     87\n",
       "4          1st Round  Outdoor    Hard   Adelaide        3     81    198\n",
       "...              ...      ...     ...        ...      ...    ...    ...\n",
       "58713  Quarterfinals  Outdoor    Hard  Melbourne        3    112     77\n",
       "58714  Quarterfinals  Outdoor    Hard  Melbourne        3     28     57\n",
       "58715     Semifinals  Outdoor    Hard  Melbourne        3    112     28\n",
       "58716     Semifinals  Outdoor    Hard  Melbourne        3      6     95\n",
       "58717      The Final  Outdoor    Hard  Melbourne        3      6    112\n",
       "\n",
       "[58567 rows x 7 columns]"
      ]
     },
     "execution_count": 8,
     "metadata": {},
     "output_type": "execute_result"
    }
   ],
   "source": [
    "df[[\"Round\", \"Court\", \"Surface\", \"Location\", \"Best of\", \"WRank\", \"LRank\"]]"
   ]
  },
  {
   "cell_type": "code",
   "execution_count": 11,
   "id": "a90a8ea8-01a8-41d4-8c68-11a0c67bd401",
   "metadata": {},
   "outputs": [
    {
     "data": {
      "text/html": [
       "<div>\n",
       "<style scoped>\n",
       "    .dataframe tbody tr th:only-of-type {\n",
       "        vertical-align: middle;\n",
       "    }\n",
       "\n",
       "    .dataframe tbody tr th {\n",
       "        vertical-align: top;\n",
       "    }\n",
       "\n",
       "    .dataframe thead th {\n",
       "        text-align: right;\n",
       "    }\n",
       "</style>\n",
       "<table border=\"1\" class=\"dataframe\">\n",
       "  <thead>\n",
       "    <tr style=\"text-align: right;\">\n",
       "      <th></th>\n",
       "      <th>WRank</th>\n",
       "      <th>LRank</th>\n",
       "    </tr>\n",
       "  </thead>\n",
       "  <tbody>\n",
       "    <tr>\n",
       "      <th>10</th>\n",
       "      <td>55</td>\n",
       "      <td>21</td>\n",
       "    </tr>\n",
       "    <tr>\n",
       "      <th>12</th>\n",
       "      <td>208</td>\n",
       "      <td>122</td>\n",
       "    </tr>\n",
       "    <tr>\n",
       "      <th>13</th>\n",
       "      <td>142</td>\n",
       "      <td>79</td>\n",
       "    </tr>\n",
       "    <tr>\n",
       "      <th>14</th>\n",
       "      <td>84</td>\n",
       "      <td>20</td>\n",
       "    </tr>\n",
       "    <tr>\n",
       "      <th>15</th>\n",
       "      <td>227</td>\n",
       "      <td>88</td>\n",
       "    </tr>\n",
       "    <tr>\n",
       "      <th>...</th>\n",
       "      <td>...</td>\n",
       "      <td>...</td>\n",
       "    </tr>\n",
       "    <tr>\n",
       "      <th>58709</th>\n",
       "      <td>112</td>\n",
       "      <td>26</td>\n",
       "    </tr>\n",
       "    <tr>\n",
       "      <th>58710</th>\n",
       "      <td>57</td>\n",
       "      <td>55</td>\n",
       "    </tr>\n",
       "    <tr>\n",
       "      <th>58711</th>\n",
       "      <td>95</td>\n",
       "      <td>88</td>\n",
       "    </tr>\n",
       "    <tr>\n",
       "      <th>58713</th>\n",
       "      <td>112</td>\n",
       "      <td>77</td>\n",
       "    </tr>\n",
       "    <tr>\n",
       "      <th>58715</th>\n",
       "      <td>112</td>\n",
       "      <td>28</td>\n",
       "    </tr>\n",
       "  </tbody>\n",
       "</table>\n",
       "<p>20418 rows × 2 columns</p>\n",
       "</div>"
      ],
      "text/plain": [
       "       WRank  LRank\n",
       "10        55     21\n",
       "12       208    122\n",
       "13       142     79\n",
       "14        84     20\n",
       "15       227     88\n",
       "...      ...    ...\n",
       "58709    112     26\n",
       "58710     57     55\n",
       "58711     95     88\n",
       "58713    112     77\n",
       "58715    112     28\n",
       "\n",
       "[20418 rows x 2 columns]"
      ]
     },
     "execution_count": 11,
     "metadata": {},
     "output_type": "execute_result"
    }
   ],
   "source": [
    "df[df[\"LRank\"] < df[\"WRank\"]][[\"WRank\", \"LRank\"]]"
   ]
  },
  {
   "cell_type": "code",
   "execution_count": 12,
   "id": "0fcdd6b1-dd2d-4f49-9509-76e88e2184c0",
   "metadata": {},
   "outputs": [],
   "source": [
    "df = df.assign(rank_diff = abs(df[\"WRank\"] - df[\"LRank\"]))"
   ]
  },
  {
   "cell_type": "code",
   "execution_count": 13,
   "id": "a8ffb8eb-a2ca-415c-9826-defac6248abb",
   "metadata": {},
   "outputs": [],
   "source": [
    "df = df.assign(better_rank_wins = df[\"WRank\"] < df[\"LRank\"])"
   ]
  },
  {
   "cell_type": "code",
   "execution_count": 15,
   "id": "5b435b1d-133f-4e65-9755-072994c9f40d",
   "metadata": {},
   "outputs": [],
   "source": [
    "df_m = df[[\"Round\", \"Court\", \"Surface\", \"Location\", \"Best of\", \"rank_diff\", \"better_rank_wins\"]]"
   ]
  },
  {
   "cell_type": "code",
   "execution_count": 16,
   "id": "341d48d7-8aa5-4c87-abc0-aa3ab67b2413",
   "metadata": {},
   "outputs": [
    {
     "data": {
      "text/html": [
       "<div>\n",
       "<style scoped>\n",
       "    .dataframe tbody tr th:only-of-type {\n",
       "        vertical-align: middle;\n",
       "    }\n",
       "\n",
       "    .dataframe tbody tr th {\n",
       "        vertical-align: top;\n",
       "    }\n",
       "\n",
       "    .dataframe thead th {\n",
       "        text-align: right;\n",
       "    }\n",
       "</style>\n",
       "<table border=\"1\" class=\"dataframe\">\n",
       "  <thead>\n",
       "    <tr style=\"text-align: right;\">\n",
       "      <th></th>\n",
       "      <th>Round</th>\n",
       "      <th>Court</th>\n",
       "      <th>Surface</th>\n",
       "      <th>Location</th>\n",
       "      <th>Best of</th>\n",
       "      <th>rank_diff</th>\n",
       "      <th>better_rank_wins</th>\n",
       "    </tr>\n",
       "  </thead>\n",
       "  <tbody>\n",
       "    <tr>\n",
       "      <th>0</th>\n",
       "      <td>1st Round</td>\n",
       "      <td>Outdoor</td>\n",
       "      <td>Hard</td>\n",
       "      <td>Adelaide</td>\n",
       "      <td>3</td>\n",
       "      <td>14</td>\n",
       "      <td>True</td>\n",
       "    </tr>\n",
       "    <tr>\n",
       "      <th>1</th>\n",
       "      <td>1st Round</td>\n",
       "      <td>Outdoor</td>\n",
       "      <td>Hard</td>\n",
       "      <td>Adelaide</td>\n",
       "      <td>3</td>\n",
       "      <td>51</td>\n",
       "      <td>True</td>\n",
       "    </tr>\n",
       "    <tr>\n",
       "      <th>2</th>\n",
       "      <td>1st Round</td>\n",
       "      <td>Outdoor</td>\n",
       "      <td>Hard</td>\n",
       "      <td>Adelaide</td>\n",
       "      <td>3</td>\n",
       "      <td>615</td>\n",
       "      <td>True</td>\n",
       "    </tr>\n",
       "    <tr>\n",
       "      <th>3</th>\n",
       "      <td>1st Round</td>\n",
       "      <td>Outdoor</td>\n",
       "      <td>Hard</td>\n",
       "      <td>Adelaide</td>\n",
       "      <td>3</td>\n",
       "      <td>22</td>\n",
       "      <td>True</td>\n",
       "    </tr>\n",
       "    <tr>\n",
       "      <th>4</th>\n",
       "      <td>1st Round</td>\n",
       "      <td>Outdoor</td>\n",
       "      <td>Hard</td>\n",
       "      <td>Adelaide</td>\n",
       "      <td>3</td>\n",
       "      <td>117</td>\n",
       "      <td>True</td>\n",
       "    </tr>\n",
       "    <tr>\n",
       "      <th>...</th>\n",
       "      <td>...</td>\n",
       "      <td>...</td>\n",
       "      <td>...</td>\n",
       "      <td>...</td>\n",
       "      <td>...</td>\n",
       "      <td>...</td>\n",
       "      <td>...</td>\n",
       "    </tr>\n",
       "    <tr>\n",
       "      <th>58713</th>\n",
       "      <td>Quarterfinals</td>\n",
       "      <td>Outdoor</td>\n",
       "      <td>Hard</td>\n",
       "      <td>Melbourne</td>\n",
       "      <td>3</td>\n",
       "      <td>35</td>\n",
       "      <td>False</td>\n",
       "    </tr>\n",
       "    <tr>\n",
       "      <th>58714</th>\n",
       "      <td>Quarterfinals</td>\n",
       "      <td>Outdoor</td>\n",
       "      <td>Hard</td>\n",
       "      <td>Melbourne</td>\n",
       "      <td>3</td>\n",
       "      <td>29</td>\n",
       "      <td>True</td>\n",
       "    </tr>\n",
       "    <tr>\n",
       "      <th>58715</th>\n",
       "      <td>Semifinals</td>\n",
       "      <td>Outdoor</td>\n",
       "      <td>Hard</td>\n",
       "      <td>Melbourne</td>\n",
       "      <td>3</td>\n",
       "      <td>84</td>\n",
       "      <td>False</td>\n",
       "    </tr>\n",
       "    <tr>\n",
       "      <th>58716</th>\n",
       "      <td>Semifinals</td>\n",
       "      <td>Outdoor</td>\n",
       "      <td>Hard</td>\n",
       "      <td>Melbourne</td>\n",
       "      <td>3</td>\n",
       "      <td>89</td>\n",
       "      <td>True</td>\n",
       "    </tr>\n",
       "    <tr>\n",
       "      <th>58717</th>\n",
       "      <td>The Final</td>\n",
       "      <td>Outdoor</td>\n",
       "      <td>Hard</td>\n",
       "      <td>Melbourne</td>\n",
       "      <td>3</td>\n",
       "      <td>106</td>\n",
       "      <td>True</td>\n",
       "    </tr>\n",
       "  </tbody>\n",
       "</table>\n",
       "<p>58567 rows × 7 columns</p>\n",
       "</div>"
      ],
      "text/plain": [
       "               Round    Court Surface   Location  Best of  rank_diff  \\\n",
       "0          1st Round  Outdoor    Hard   Adelaide        3         14   \n",
       "1          1st Round  Outdoor    Hard   Adelaide        3         51   \n",
       "2          1st Round  Outdoor    Hard   Adelaide        3        615   \n",
       "3          1st Round  Outdoor    Hard   Adelaide        3         22   \n",
       "4          1st Round  Outdoor    Hard   Adelaide        3        117   \n",
       "...              ...      ...     ...        ...      ...        ...   \n",
       "58713  Quarterfinals  Outdoor    Hard  Melbourne        3         35   \n",
       "58714  Quarterfinals  Outdoor    Hard  Melbourne        3         29   \n",
       "58715     Semifinals  Outdoor    Hard  Melbourne        3         84   \n",
       "58716     Semifinals  Outdoor    Hard  Melbourne        3         89   \n",
       "58717      The Final  Outdoor    Hard  Melbourne        3        106   \n",
       "\n",
       "       better_rank_wins  \n",
       "0                  True  \n",
       "1                  True  \n",
       "2                  True  \n",
       "3                  True  \n",
       "4                  True  \n",
       "...                 ...  \n",
       "58713             False  \n",
       "58714              True  \n",
       "58715             False  \n",
       "58716              True  \n",
       "58717              True  \n",
       "\n",
       "[58567 rows x 7 columns]"
      ]
     },
     "execution_count": 16,
     "metadata": {},
     "output_type": "execute_result"
    }
   ],
   "source": [
    "df_m"
   ]
  },
  {
   "cell_type": "code",
   "execution_count": 18,
   "id": "5d4a20bf-05e9-45a9-822c-93241dc36ebb",
   "metadata": {},
   "outputs": [
    {
     "data": {
      "text/plain": [
       "count    20419.000000\n",
       "mean        56.397032\n",
       "std         85.010586\n",
       "min          0.000000\n",
       "25%         15.000000\n",
       "50%         33.000000\n",
       "75%         65.000000\n",
       "max       1711.000000\n",
       "Name: rank_diff, dtype: float64"
      ]
     },
     "execution_count": 18,
     "metadata": {},
     "output_type": "execute_result"
    }
   ],
   "source": [
    "df[df['better_rank_wins'] == False]['rank_diff'].describe()"
   ]
  },
  {
   "cell_type": "code",
   "execution_count": 31,
   "id": "08fdf1cc-3379-41f0-85f2-630ee4d15f6e",
   "metadata": {},
   "outputs": [
    {
     "data": {
      "text/plain": [
       "<AxesSubplot:xlabel='better_rank_wins', ylabel='rank_diff'>"
      ]
     },
     "execution_count": 31,
     "metadata": {},
     "output_type": "execute_result"
    },
    {
     "data": {
      "image/png": "[encoded data removed]",
      "text/plain": [
       "<Figure size 432x288 with 1 Axes>"
      ]
     },
     "metadata": {
      "needs_background": "light"
     },
     "output_type": "display_data"
    }
   ],
   "source": [
    "sns.boxplot(data=df_m[['rank_diff','better_rank_wins']].query('rank_diff < 500 and rank_diff > -500'), y=\"rank_diff\", x=\"better_rank_wins\")"
   ]
  },
  {
   "cell_type": "code",
   "execution_count": 21,
   "id": "1e8f6d6c-af1f-4bbe-a735-4911d178acc6",
   "metadata": {},
   "outputs": [
    {
     "data": {
      "text/plain": [
       "0.6513565659842574"
      ]
     },
     "execution_count": 21,
     "metadata": {},
     "output_type": "execute_result"
    }
   ],
   "source": [
    "df_m[\"better_rank_wins\"].mean()"
   ]
  },
  {
   "cell_type": "code",
   "execution_count": null,
   "id": "527ff135-4707-40da-a82d-cc526a4a534e",
   "metadata": {},
   "outputs": [],
   "source": []
  }
 ],
 "metadata": {
  "kernelspec": {
   "display_name": "Python 3 (ipykernel)",
   "language": "python",
   "name": "python3"
  },
  "language_info": {
   "codemirror_mode": {
    "name": "ipython",
    "version": 3
   },
   "file_extension": ".py",
   "mimetype": "text/x-python",
   "name": "python",
   "nbconvert_exporter": "python",
   "pygments_lexer": "ipython3",
   "version": "3.10.1"
  }
 },
 "nbformat": 4,
 "nbformat_minor": 5
}
